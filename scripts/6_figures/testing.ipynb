{
 "cells": [
  {
   "cell_type": "code",
   "execution_count": 2,
   "metadata": {},
   "outputs": [
    {
     "data": {
      "text/plain": [
       "1957-01-01    2131\n",
       "1956-01-01    1087\n",
       "1973-01-01     781\n",
       "1972-01-01     711\n",
       "1948-01-01     706\n",
       "1951-01-01     659\n",
       "1954-01-01     609\n",
       "1955-01-01     510\n",
       "1987-01-01     475\n",
       "1952-01-01     408\n",
       "2001-01-01     402\n",
       "1953-01-01     376\n",
       "2006-01-01     357\n",
       "1950-01-01     345\n",
       "2009-01-01     256\n",
       "2002-01-01     169\n",
       "1970-01-01     161\n",
       "1961-01-01      81\n",
       "1958-01-01      75\n",
       "1979-01-01      50\n",
       "1949-01-01      40\n",
       "2008-01-01      31\n",
       "2007-01-01      25\n",
       "1960-01-01      19\n",
       "2010-01-01      11\n",
       "1962-01-01      10\n",
       "Name: date, dtype: int64"
      ]
     },
     "execution_count": 2,
     "metadata": {},
     "output_type": "execute_result"
    }
   ],
   "source": [
    "import geopandas as gpd\n",
    "import pandas as pd \n",
    "gdf = gpd.read_file('/vol/v3/ben_ak/vector_files/glacier_outlines/mapdate_bounds/mapdate_copy.shp')\n",
    "gdf['date'] = pd.to_datetime(gdf['BGNDATE'],unit='ms')\n",
    "gdf.date.value_counts()"
   ]
  }
 ],
 "metadata": {
  "kernelspec": {
   "display_name": "Python 3.7.7 ('glaciers')",
   "language": "python",
   "name": "python3"
  },
  "language_info": {
   "codemirror_mode": {
    "name": "ipython",
    "version": 3
   },
   "file_extension": ".py",
   "mimetype": "text/x-python",
   "name": "python",
   "nbconvert_exporter": "python",
   "pygments_lexer": "ipython3",
   "version": "3.7.7"
  },
  "orig_nbformat": 4,
  "vscode": {
   "interpreter": {
    "hash": "407066b57372e8a8a4eedc54f30fbfc9a3be1219f9711f4d6a14b77e71f37123"
   }
  }
 },
 "nbformat": 4,
 "nbformat_minor": 2
}
